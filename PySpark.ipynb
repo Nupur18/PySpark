{
  "nbformat": 4,
  "nbformat_minor": 0,
  "metadata": {
    "colab": {
      "name": "PySpark.ipynb",
      "provenance": []
    },
    "kernelspec": {
      "name": "python3",
      "display_name": "Python 3"
    },
    "language_info": {
      "name": "python"
    },
    "accelerator": "GPU"
  },
  "cells": [
    {
      "cell_type": "code",
      "execution_count": null,
      "metadata": {
        "colab": {
          "base_uri": "https://localhost:8080/"
        },
        "id": "wHLXiXfyW1Ki",
        "outputId": "720ab19d-7a0f-4d08-8a40-e9f067846db2"
      },
      "outputs": [
        {
          "output_type": "stream",
          "name": "stdout",
          "text": [
            "Mounted at /content/drive\n"
          ]
        }
      ],
      "source": [
        "from google.colab import drive\n",
        "drive.mount(\"/content/drive\")"
      ]
    },
    {
      "cell_type": "code",
      "source": [
        "!apt-get install openjdk-8-jdk-headless -qq > /dev/null"
      ],
      "metadata": {
        "id": "bvhXLSQzXUtJ"
      },
      "execution_count": null,
      "outputs": []
    },
    {
      "cell_type": "code",
      "source": [
        "!wget -q https://archive.apache.org/dist/spark/spark-3.0.0/spark-3.0.0-bin-hadoop3.2.tgz"
      ],
      "metadata": {
        "id": "sxRqmOjB6f02"
      },
      "execution_count": null,
      "outputs": []
    },
    {
      "cell_type": "code",
      "source": [
        "!tar xf spark-3.0.0-bin-hadoop3.2.tgz"
      ],
      "metadata": {
        "id": "tmP1aQR26hno"
      },
      "execution_count": null,
      "outputs": []
    },
    {
      "cell_type": "code",
      "source": [
        "import os\n",
        "os.environ[\"JAVA_HOME\"] = \"/usr/lib/jvm/java-8-openjdk-amd64\"\n",
        "os.environ[\"SPARK_HOME\"] = \"/content/spark-3.0.0-bin-hadoop3.2\""
      ],
      "metadata": {
        "id": "GO8e0tTc7AiG"
      },
      "execution_count": null,
      "outputs": []
    },
    {
      "cell_type": "code",
      "source": [
        "!pip install -q findspark"
      ],
      "metadata": {
        "id": "tuxWI4ah72C2"
      },
      "execution_count": null,
      "outputs": []
    },
    {
      "cell_type": "code",
      "source": [
        "import findspark\n",
        "findspark.init()"
      ],
      "metadata": {
        "id": "lcJdrIT27UQ5"
      },
      "execution_count": null,
      "outputs": []
    },
    {
      "cell_type": "code",
      "source": [
        "from pyspark.sql import SparkSession\n",
        "\n",
        "spark = SparkSession.builder\\\n",
        "        .master(\"local\")\\\n",
        "        .appName(\"Colab\")\\\n",
        "        .config('spark.ui.port', '4050')\\\n",
        "        .getOrCreate()"
      ],
      "metadata": {
        "id": "wPIThDGn7Xyu"
      },
      "execution_count": null,
      "outputs": []
    },
    {
      "cell_type": "code",
      "source": [
        "spark"
      ],
      "metadata": {
        "colab": {
          "base_uri": "https://localhost:8080/",
          "height": 220
        },
        "id": "VSvYcoMx7fVs",
        "outputId": "ab3e0613-6d26-45ff-f08d-d132fba95208"
      },
      "execution_count": null,
      "outputs": [
        {
          "output_type": "execute_result",
          "data": {
            "text/plain": [
              "<pyspark.sql.session.SparkSession at 0x7f9b3f5aca50>"
            ],
            "text/html": [
              "\n",
              "            <div>\n",
              "                <p><b>SparkSession - in-memory</b></p>\n",
              "                \n",
              "        <div>\n",
              "            <p><b>SparkContext</b></p>\n",
              "\n",
              "            <p><a href=\"http://e11354c51f25:4050\">Spark UI</a></p>\n",
              "\n",
              "            <dl>\n",
              "              <dt>Version</dt>\n",
              "                <dd><code>v3.0.0</code></dd>\n",
              "              <dt>Master</dt>\n",
              "                <dd><code>local</code></dd>\n",
              "              <dt>AppName</dt>\n",
              "                <dd><code>Colab</code></dd>\n",
              "            </dl>\n",
              "        </div>\n",
              "        \n",
              "            </div>\n",
              "        "
            ]
          },
          "metadata": {},
          "execution_count": 10
        }
      ]
    },
    {
      "cell_type": "code",
      "source": [
        "df = spark.read.csv(\"/content/drive/My Drive/Colab Notebooks/superstore.csv\", header=True, inferSchema=True)"
      ],
      "metadata": {
        "id": "xfv5Mu7E8hAX"
      },
      "execution_count": null,
      "outputs": []
    },
    {
      "cell_type": "code",
      "source": [
        "# to check out the schema of the dataframe\n",
        "df.printSchema()"
      ],
      "metadata": {
        "colab": {
          "base_uri": "https://localhost:8080/"
        },
        "id": "r4WpscBF9gNw",
        "outputId": "f7746df5-1c2b-4d67-bedf-82dd5b9db5d4"
      },
      "execution_count": null,
      "outputs": [
        {
          "output_type": "stream",
          "name": "stdout",
          "text": [
            "root\n",
            " |-- Row ID: integer (nullable = true)\n",
            " |-- Order ID: string (nullable = true)\n",
            " |-- Order Date: string (nullable = true)\n",
            " |-- Ship Date: string (nullable = true)\n",
            " |-- Ship Mode: string (nullable = true)\n",
            " |-- Customer ID: string (nullable = true)\n",
            " |-- Customer Name: string (nullable = true)\n",
            " |-- Segment: string (nullable = true)\n",
            " |-- Country: string (nullable = true)\n",
            " |-- City: string (nullable = true)\n",
            " |-- State: string (nullable = true)\n",
            " |-- Postal Code: integer (nullable = true)\n",
            " |-- Region: string (nullable = true)\n",
            " |-- Product ID: string (nullable = true)\n",
            " |-- Category: string (nullable = true)\n",
            " |-- Sub-Category: string (nullable = true)\n",
            " |-- Product Name: string (nullable = true)\n",
            " |-- Sales: string (nullable = true)\n",
            " |-- Quantity: string (nullable = true)\n",
            " |-- Discount: string (nullable = true)\n",
            " |-- Profit: double (nullable = true)\n",
            "\n"
          ]
        }
      ]
    },
    {
      "cell_type": "code",
      "source": [
        "# to display first 5 rows\n",
        "df.show(5)"
      ],
      "metadata": {
        "colab": {
          "base_uri": "https://localhost:8080/"
        },
        "id": "6owZuR_f99k-",
        "outputId": "f65455da-c40b-4524-e68e-79104c69cedd"
      },
      "execution_count": null,
      "outputs": [
        {
          "output_type": "stream",
          "name": "stdout",
          "text": [
            "+------+--------------+----------+----------+--------------+-----------+---------------+---------+-------------+---------------+----------+-----------+------+---------------+---------------+------------+--------------------+--------+--------+--------+--------+\n",
            "|Row ID|      Order ID|Order Date| Ship Date|     Ship Mode|Customer ID|  Customer Name|  Segment|      Country|           City|     State|Postal Code|Region|     Product ID|       Category|Sub-Category|        Product Name|   Sales|Quantity|Discount|  Profit|\n",
            "+------+--------------+----------+----------+--------------+-----------+---------------+---------+-------------+---------------+----------+-----------+------+---------------+---------------+------------+--------------------+--------+--------+--------+--------+\n",
            "|     1|CA-2016-152156| 11/8/2016|11/11/2016|  Second Class|   CG-12520|    Claire Gute| Consumer|United States|      Henderson|  Kentucky|      42420| South|FUR-BO-10001798|      Furniture|   Bookcases|Bush Somerset Col...|  261.96|       2|       0| 41.9136|\n",
            "|     2|CA-2016-152156| 11/8/2016|11/11/2016|  Second Class|   CG-12520|    Claire Gute| Consumer|United States|      Henderson|  Kentucky|      42420| South|FUR-CH-10000454|      Furniture|      Chairs|Hon Deluxe Fabric...|  731.94|       3|       0| 219.582|\n",
            "|     3|CA-2016-138688| 6/12/2016| 6/16/2016|  Second Class|   DV-13045|Darrin Van Huff|Corporate|United States|    Los Angeles|California|      90036|  West|OFF-LA-10000240|Office Supplies|      Labels|Self-Adhesive Add...|   14.62|       2|       0|  6.8714|\n",
            "|     4|US-2015-108966|10/11/2015|10/18/2015|Standard Class|   SO-20335| Sean O'Donnell| Consumer|United States|Fort Lauderdale|   Florida|      33311| South|FUR-TA-10000577|      Furniture|      Tables|Bretford CR4500 S...|957.5775|       5|    0.45|-383.031|\n",
            "|     5|US-2015-108966|10/11/2015|10/18/2015|Standard Class|   SO-20335| Sean O'Donnell| Consumer|United States|Fort Lauderdale|   Florida|      33311| South|OFF-ST-10000760|Office Supplies|     Storage|Eldon Fold 'N Rol...|  22.368|       2|     0.2|  2.5164|\n",
            "+------+--------------+----------+----------+--------------+-----------+---------------+---------+-------------+---------------+----------+-----------+------+---------------+---------------+------------+--------------------+--------+--------+--------+--------+\n",
            "only showing top 5 rows\n",
            "\n"
          ]
        }
      ]
    },
    {
      "cell_type": "code",
      "source": [
        "# total number of rows in the dataframe\n",
        "df.count()"
      ],
      "metadata": {
        "colab": {
          "base_uri": "https://localhost:8080/"
        },
        "id": "key2UXER-NLs",
        "outputId": "13996939-6438-4e51-c503-70ad6976414b"
      },
      "execution_count": null,
      "outputs": [
        {
          "output_type": "execute_result",
          "data": {
            "text/plain": [
              "9994"
            ]
          },
          "metadata": {},
          "execution_count": 14
        }
      ]
    },
    {
      "cell_type": "code",
      "source": [
        "# to show specific columns of first 5 rows\n",
        "df.select(\"Order ID\",\"Order Date\",\"Customer ID\",\"Product Name\").show(5)"
      ],
      "metadata": {
        "colab": {
          "base_uri": "https://localhost:8080/"
        },
        "id": "gw81jb8N_iEs",
        "outputId": "ccfb46d9-87cc-4189-9549-c0b7db967b7e"
      },
      "execution_count": null,
      "outputs": [
        {
          "output_type": "stream",
          "name": "stdout",
          "text": [
            "+--------------+----------+-----------+--------------------+\n",
            "|      Order ID|Order Date|Customer ID|        Product Name|\n",
            "+--------------+----------+-----------+--------------------+\n",
            "|CA-2016-152156| 11/8/2016|   CG-12520|Bush Somerset Col...|\n",
            "|CA-2016-152156| 11/8/2016|   CG-12520|Hon Deluxe Fabric...|\n",
            "|CA-2016-138688| 6/12/2016|   DV-13045|Self-Adhesive Add...|\n",
            "|US-2015-108966|10/11/2015|   SO-20335|Bretford CR4500 S...|\n",
            "|US-2015-108966|10/11/2015|   SO-20335|Eldon Fold 'N Rol...|\n",
            "+--------------+----------+-----------+--------------------+\n",
            "only showing top 5 rows\n",
            "\n"
          ]
        }
      ]
    },
    {
      "cell_type": "code",
      "source": [
        "# describing the columns\n",
        "df.describe().show()"
      ],
      "metadata": {
        "colab": {
          "base_uri": "https://localhost:8080/"
        },
        "id": "9arzCuuR_zxy",
        "outputId": "afad4223-31fd-4cde-aa1c-6190713fc3df"
      },
      "execution_count": null,
      "outputs": [
        {
          "output_type": "stream",
          "name": "stdout",
          "text": [
            "+-------+------------------+--------------+----------+---------+--------------+-----------+------------------+-----------+-------------+--------+-------+------------------+-------+---------------+----------+------------+--------------------+------------------+------------------+------------------+------------------+\n",
            "|summary|            Row ID|      Order ID|Order Date|Ship Date|     Ship Mode|Customer ID|     Customer Name|    Segment|      Country|    City|  State|       Postal Code| Region|     Product ID|  Category|Sub-Category|        Product Name|             Sales|          Quantity|          Discount|            Profit|\n",
            "+-------+------------------+--------------+----------+---------+--------------+-----------+------------------+-----------+-------------+--------+-------+------------------+-------+---------------+----------+------------+--------------------+------------------+------------------+------------------+------------------+\n",
            "|  count|              9994|          9994|      9994|     9994|          9994|       9994|              9994|       9994|         9994|    9994|   9994|              9994|   9994|           9994|      9994|        9994|                9994|              9994|              9994|              9994|              9994|\n",
            "|   mean|            4997.5|          null|      null|     null|          null|       null|              null|       null|         null|    null|   null|  55190.3794276566|   null|           null|      null|        null|                null|234.41818199917006| 5.828590535392018|0.3155949113492862|28.587912967780834|\n",
            "| stddev|2885.1636290974325|          null|      null|     null|          null|       null|              null|       null|         null|    null|   null|32063.693350364487|   null|           null|      null|        null|                null| 631.7890112674363|25.520975563736403| 3.314008629792499| 234.3891156047269|\n",
            "|    min|                 1|CA-2014-100006|  1/1/2017| 1/1/2015|   First Class|   AA-10315|     Aaron Bergman|   Consumer|United States|Aberdeen|Alabama|              1040|Central|FUR-BO-10000112| Furniture| Accessories|\"\"\"While you Were...|          10/Pack\"|      1040 sheets\"|           30/Box\"|         -6599.978|\n",
            "|    max|              9994|US-2017-169551|  9/9/2017| 9/9/2017|Standard Class|   ZD-21925|Zuschuss Donatelli|Home Office|United States|    Yuma|Wyoming|             99301|   West|TEC-PH-10004977|Technology|      Tables|netTALK DUO VoIP ...|            999.98|            98.352|            98.352|          8399.976|\n",
            "+-------+------------------+--------------+----------+---------+--------------+-----------+------------------+-----------+-------------+--------+-------+------------------+-------+---------------+----------+------------+--------------------+------------------+------------------+------------------+------------------+\n",
            "\n"
          ]
        }
      ]
    },
    {
      "cell_type": "code",
      "source": [
        "# to show distinct values\n",
        "df.select(\"Ship Mode\").distinct().show()"
      ],
      "metadata": {
        "colab": {
          "base_uri": "https://localhost:8080/"
        },
        "id": "p2ihsflJ_6Lr",
        "outputId": "976edf68-2e0c-4612-f716-2fd586cd65ac"
      },
      "execution_count": null,
      "outputs": [
        {
          "output_type": "stream",
          "name": "stdout",
          "text": [
            "+--------------+\n",
            "|     Ship Mode|\n",
            "+--------------+\n",
            "|   First Class|\n",
            "|      Same Day|\n",
            "|  Second Class|\n",
            "|Standard Class|\n",
            "+--------------+\n",
            "\n"
          ]
        }
      ]
    },
    {
      "cell_type": "code",
      "source": [
        "# to show customers who are corporates and have ordered greater than 10 products\n",
        "df_filtered = df.filter(\"Quantity > 10 AND Segment = 'Corporate'\")\n",
        "df_filtered.select(\"Customer ID\", \"Customer Name\", \"City\").show(5)"
      ],
      "metadata": {
        "colab": {
          "base_uri": "https://localhost:8080/"
        },
        "id": "JryPmMnOA2Lt",
        "outputId": "3206e526-af42-47c2-808f-41d67fd89d5f"
      },
      "execution_count": null,
      "outputs": [
        {
          "output_type": "stream",
          "name": "stdout",
          "text": [
            "+-----------+----------------+------------+\n",
            "|Customer ID|   Customer Name|        City|\n",
            "+-----------+----------------+------------+\n",
            "|   JE-16165|  Justin Ellison|    Franklin|\n",
            "|   DR-12880| Dan Reichenbach|     Chicago|\n",
            "|   AG-10495| Andrew Gjertsen|Philadelphia|\n",
            "|   JD-15895|Jonathan Doherty|  Belleville|\n",
            "|   JD-15895|Jonathan Doherty|Philadelphia|\n",
            "+-----------+----------------+------------+\n",
            "only showing top 5 rows\n",
            "\n"
          ]
        }
      ]
    },
    {
      "cell_type": "code",
      "source": [
        "# to find maximum profit in each city\n",
        "from pyspark.sql.functions import max\n",
        "df.groupBy(\"City\").max(\"Profit\").show()"
      ],
      "metadata": {
        "colab": {
          "base_uri": "https://localhost:8080/"
        },
        "id": "ovNHyNQPCGus",
        "outputId": "f87dd81b-717a-4afb-b3ef-c34d793c1929"
      },
      "execution_count": null,
      "outputs": [
        {
          "output_type": "stream",
          "name": "stdout",
          "text": [
            "+---------------+-----------+\n",
            "|           City|max(Profit)|\n",
            "+---------------+-----------+\n",
            "|          Tyler|     4.5201|\n",
            "|    Springfield|  2302.9671|\n",
            "|        Edmonds|    311.652|\n",
            "|          Tempe|     107.46|\n",
            "|  Bowling Green|    74.9985|\n",
            "|          Pasco|     121.99|\n",
            "|         Auburn|   240.8595|\n",
            "|North Las Vegas|  1644.2913|\n",
            "|       Thornton|    89.5888|\n",
            "|       Palatine|    23.2624|\n",
            "|        Phoenix|   211.4955|\n",
            "|     Plainfield|   621.9744|\n",
            "|  Lake Elsinore|     17.745|\n",
            "|     Georgetown|   195.9944|\n",
            "|      Bethlehem|      0.711|\n",
            "|         Wilson|     20.392|\n",
            "|      Hollywood|     38.396|\n",
            "|         Monroe|    217.767|\n",
            "|       Woodland|    23.9984|\n",
            "| Pembroke Pines|     50.396|\n",
            "+---------------+-----------+\n",
            "only showing top 20 rows\n",
            "\n"
          ]
        }
      ]
    },
    {
      "cell_type": "code",
      "source": [
        "from pyspark.ml.feature import StringIndexer\n",
        "from pyspark.ml import Pipeline\n",
        "\n",
        "indexers = [StringIndexer(inputCol=\"Ship Mode\", outputCol=\"Ship Mode Index\") , StringIndexer(inputCol=\"Customer ID\", outputCol=\"Customer ID Index\"), \n",
        "            StringIndexer(inputCol=\"Customer Name\", outputCol=\"Customer Name Index\"), StringIndexer(inputCol=\"Segment\", outputCol=\"Segment Index\"),\n",
        "            StringIndexer(inputCol=\"City\", outputCol=\"City Index\"), StringIndexer(inputCol=\"State\", outputCol=\"State Index\"),\n",
        "            StringIndexer(inputCol=\"Region\", outputCol=\"Region Index\"), StringIndexer(inputCol=\"Category\", outputCol=\"Category Index\"),\n",
        "            StringIndexer(inputCol=\"Sales\", outputCol=\"Sales Index\"), StringIndexer(inputCol=\"Quantity\", outputCol=\"Quantity Index\"),\n",
        "            StringIndexer(inputCol=\"Discount\", outputCol=\"Discount Index\")]\n",
        "\n",
        "\n",
        "pipeline = Pipeline(stages=indexers)\n",
        "new_df = pipeline.fit(df).transform(df)\n",
        "\n",
        "new_df.show()"
      ],
      "metadata": {
        "colab": {
          "base_uri": "https://localhost:8080/"
        },
        "id": "vARelWx-JRul",
        "outputId": "b6482ae3-d5d5-4656-9243-152788335f7b"
      },
      "execution_count": null,
      "outputs": [
        {
          "output_type": "stream",
          "name": "stdout",
          "text": [
            "+------+--------------+----------+----------+--------------+-----------+------------------+-----------+-------------+---------------+--------------+-----------+-------+---------------+---------------+------------+--------------------+--------+--------+--------+--------+---------------+-----------------+-------------------+-------------+----------+-----------+------------+--------------+-----------+--------------+--------------+\n",
            "|Row ID|      Order ID|Order Date| Ship Date|     Ship Mode|Customer ID|     Customer Name|    Segment|      Country|           City|         State|Postal Code| Region|     Product ID|       Category|Sub-Category|        Product Name|   Sales|Quantity|Discount|  Profit|Ship Mode Index|Customer ID Index|Customer Name Index|Segment Index|City Index|State Index|Region Index|Category Index|Sales Index|Quantity Index|Discount Index|\n",
            "+------+--------------+----------+----------+--------------+-----------+------------------+-----------+-------------+---------------+--------------+-----------+-------+---------------+---------------+------------+--------------------+--------+--------+--------+--------+---------------+-----------------+-------------------+-------------+----------+-----------+------------+--------------+-----------+--------------+--------------+\n",
            "|     1|CA-2016-152156| 11/8/2016|11/11/2016|  Second Class|   CG-12520|       Claire Gute|   Consumer|United States|      Henderson|      Kentucky|      42420|  South|FUR-BO-10001798|      Furniture|   Bookcases|Bush Somerset Col...|  261.96|       2|       0| 41.9136|            1.0|            717.0|              717.0|          0.0|      26.0|       16.0|         3.0|           1.0|     1296.0|           1.0|           0.0|\n",
            "|     2|CA-2016-152156| 11/8/2016|11/11/2016|  Second Class|   CG-12520|       Claire Gute|   Consumer|United States|      Henderson|      Kentucky|      42420|  South|FUR-CH-10000454|      Furniture|      Chairs|Hon Deluxe Fabric...|  731.94|       3|       0| 219.582|            1.0|            717.0|              717.0|          0.0|      26.0|       16.0|         3.0|           1.0|     5278.0|           0.0|           0.0|\n",
            "|     3|CA-2016-138688| 6/12/2016| 6/16/2016|  Second Class|   DV-13045|   Darrin Van Huff|  Corporate|United States|    Los Angeles|    California|      90036|   West|OFF-LA-10000240|Office Supplies|      Labels|Self-Adhesive Add...|   14.62|       2|       0|  6.8714|            1.0|            539.0|              537.0|          1.0|       1.0|        0.0|         0.0|           0.0|       19.0|           1.0|           0.0|\n",
            "|     4|US-2015-108966|10/11/2015|10/18/2015|Standard Class|   SO-20335|    Sean O'Donnell|   Consumer|United States|Fort Lauderdale|       Florida|      33311|  South|FUR-TA-10000577|      Furniture|      Tables|Bretford CR4500 S...|957.5775|       5|    0.45|-383.031|            0.0|            251.0|              249.0|          0.0|     107.0|        7.0|         3.0|           1.0|     5681.0|           2.0|          18.0|\n",
            "|     5|US-2015-108966|10/11/2015|10/18/2015|Standard Class|   SO-20335|    Sean O'Donnell|   Consumer|United States|Fort Lauderdale|       Florida|      33311|  South|OFF-ST-10000760|Office Supplies|     Storage|Eldon Fold 'N Rol...|  22.368|       2|     0.2|  2.5164|            0.0|            251.0|              249.0|          0.0|     107.0|        7.0|         3.0|           0.0|      602.0|           1.0|           1.0|\n",
            "|     6|CA-2014-115812|  6/9/2014| 6/14/2014|Standard Class|   BH-11710|   Brosina Hoffman|   Consumer|United States|    Los Angeles|    California|      90032|   West|FUR-FU-10001487|      Furniture| Furnishings|Eldon Expressions...|   48.86|       7|       0| 14.1694|            0.0|             35.0|               35.0|          0.0|       1.0|        0.0|         0.0|           1.0|     1604.0|           5.0|           0.0|\n",
            "|     7|CA-2014-115812|  6/9/2014| 6/14/2014|Standard Class|   BH-11710|   Brosina Hoffman|   Consumer|United States|    Los Angeles|    California|      90032|   West|OFF-AR-10002833|Office Supplies|         Art|          Newell 322|    7.28|       4|       0|  1.9656|            0.0|             35.0|               35.0|          0.0|       1.0|        0.0|         0.0|           0.0|      786.0|           3.0|           0.0|\n",
            "|     8|CA-2014-115812|  6/9/2014| 6/14/2014|Standard Class|   BH-11710|   Brosina Hoffman|   Consumer|United States|    Los Angeles|    California|      90032|   West|TEC-PH-10002275|     Technology|      Phones|Mitel 5320 IP Pho...| 907.152|       6|     0.2| 90.7152|            0.0|             35.0|               35.0|          0.0|       1.0|        0.0|         0.0|           2.0|     5613.0|           6.0|           1.0|\n",
            "|     9|CA-2014-115812|  6/9/2014| 6/14/2014|Standard Class|   BH-11710|   Brosina Hoffman|   Consumer|United States|    Los Angeles|    California|      90032|   West|OFF-BI-10003910|Office Supplies|     Binders|DXL Angle-View Bi...|  18.504|       3|     0.2|  5.7825|            0.0|             35.0|               35.0|          0.0|       1.0|        0.0|         0.0|           0.0|     2906.0|           0.0|           1.0|\n",
            "|    10|CA-2014-115812|  6/9/2014| 6/14/2014|Standard Class|   BH-11710|   Brosina Hoffman|   Consumer|United States|    Los Angeles|    California|      90032|   West|OFF-AP-10002892|Office Supplies|  Appliances|Belkin F5C206VTEL...|   114.9|       5|       0|   34.47|            0.0|             35.0|               35.0|          0.0|       1.0|        0.0|         0.0|           0.0|      926.0|           2.0|           0.0|\n",
            "|    11|CA-2014-115812|  6/9/2014| 6/14/2014|Standard Class|   BH-11710|   Brosina Hoffman|   Consumer|United States|    Los Angeles|    California|      90032|   West|FUR-TA-10001539|      Furniture|      Tables|Chromcraft Rectan...|1706.184|       9|     0.2| 85.3092|            0.0|             35.0|               35.0|          0.0|       1.0|        0.0|         0.0|           1.0|     2848.0|           7.0|           1.0|\n",
            "|    12|CA-2014-115812|  6/9/2014| 6/14/2014|Standard Class|   BH-11710|   Brosina Hoffman|   Consumer|United States|    Los Angeles|    California|      90032|   West|TEC-PH-10002033|     Technology|      Phones|Konftel 250 Confe...| 911.424|       4|     0.2| 68.3568|            0.0|             35.0|               35.0|          0.0|       1.0|        0.0|         0.0|           2.0|     5629.0|           3.0|           1.0|\n",
            "|    13|CA-2017-114412| 4/15/2017| 4/20/2017|Standard Class|   AA-10480|      Andrew Allen|   Consumer|United States|        Concord|North Carolina|      28027|  South|OFF-PA-10002365|Office Supplies|       Paper|          Xerox 1967|  15.552|       3|     0.2|  5.4432|            0.0|            363.0|              366.0|          0.0|      48.0|        9.0|         3.0|           0.0|        3.0|           0.0|           1.0|\n",
            "|    14|CA-2016-161389| 12/5/2016|12/10/2016|Standard Class|   IM-15070|      Irene Maddox|   Consumer|United States|        Seattle|    Washington|      98103|   West|OFF-BI-10003656|Office Supplies|     Binders|Fellowes PB200 Pl...| 407.976|       3|     0.2|132.5922|            0.0|             77.0|               77.0|          0.0|       4.0|        4.0|         0.0|           0.0|     4267.0|           0.0|           1.0|\n",
            "|    15|US-2015-118983|11/22/2015|11/26/2015|Standard Class|   HP-14815|     Harold Pawlan|Home Office|United States|     Fort Worth|         Texas|      76106|Central|OFF-AP-10002311|Office Supplies|  Appliances|Holmes Replacemen...|   68.81|       5|     0.8|-123.858|            0.0|            487.0|              485.0|          2.0|      59.0|        2.0|         2.0|           0.0|     5141.0|           2.0|           3.0|\n",
            "|    16|US-2015-118983|11/22/2015|11/26/2015|Standard Class|   HP-14815|     Harold Pawlan|Home Office|United States|     Fort Worth|         Texas|      76106|Central|OFF-BI-10000756|Office Supplies|     Binders|Storex DuraTech R...|   2.544|       3|     0.8|  -3.816|            0.0|            487.0|              485.0|          2.0|      59.0|        2.0|         2.0|           0.0|     3071.0|           0.0|           3.0|\n",
            "|    17|CA-2014-105893|11/11/2014|11/18/2014|Standard Class|   PK-19075|         Pete Kriz|   Consumer|United States|        Madison|     Wisconsin|      53711|Central|OFF-ST-10004186|Office Supplies|     Storage|\"Stur-D-Stor Shel...|  665.88|       6|       0| 13.3176|            0.0|             32.0|               32.0|          0.0|     160.0|       20.0|         2.0|           0.0|     5098.0|           6.0|           0.0|\n",
            "|    18|CA-2014-167164| 5/13/2014| 5/15/2014|  Second Class|   AG-10270|   Alejandro Grove|   Consumer|United States|    West Jordan|          Utah|      84084|   West|OFF-ST-10000107|Office Supplies|     Storage|Fellowes Super St...|    55.5|       2|       0|    9.99|            1.0|            259.0|              259.0|          0.0|     299.0|       31.0|         0.0|           0.0|     4777.0|           1.0|           0.0|\n",
            "|    19|CA-2014-143336| 8/27/2014|  9/1/2014|  Second Class|   ZD-21925|Zuschuss Donatelli|   Consumer|United States|  San Francisco|    California|      94109|   West|OFF-AR-10003056|Office Supplies|         Art|          Newell 341|    8.56|       2|       0|  2.4824|            1.0|            575.0|              575.0|          0.0|       3.0|        0.0|         0.0|           0.0|       54.0|           1.0|           0.0|\n",
            "|    20|CA-2014-143336| 8/27/2014|  9/1/2014|  Second Class|   ZD-21925|Zuschuss Donatelli|   Consumer|United States|  San Francisco|    California|      94109|   West|TEC-PH-10001949|     Technology|      Phones|Cisco SPA 501G IP...|  213.48|       3|     0.2|  16.011|            1.0|            575.0|              575.0|          0.0|       3.0|        0.0|         0.0|           2.0|     3224.0|           0.0|           1.0|\n",
            "+------+--------------+----------+----------+--------------+-----------+------------------+-----------+-------------+---------------+--------------+-----------+-------+---------------+---------------+------------+--------------------+--------+--------+--------+--------+---------------+-----------------+-------------------+-------------+----------+-----------+------------+--------------+-----------+--------------+--------------+\n",
            "only showing top 20 rows\n",
            "\n"
          ]
        }
      ]
    },
    {
      "cell_type": "code",
      "source": [
        "from pyspark.ml.feature import VectorAssembler\n",
        "vectorAssembler = VectorAssembler(inputCols = [\"Ship Mode Index\", \"Customer ID Index\", \"Customer Name Index\", \"Segment Index\", \"City Index\", \n",
        "                                               \"State Index\", \"Region Index\", \"Category Index\", \"Sales Index\", \"Quantity Index\", \"Discount Index\"], \n",
        "                                                outputCol = 'Features')\n",
        "dataset = vectorAssembler.transform(new_df)\n",
        "dataset = dataset.select(['Features', 'Profit'])\n",
        "dataset.show(3)"
      ],
      "metadata": {
        "colab": {
          "base_uri": "https://localhost:8080/"
        },
        "id": "yXHu-awQ2Dsg",
        "outputId": "73785683-39e2-4ca4-eefe-5f5d22f6c335"
      },
      "execution_count": null,
      "outputs": [
        {
          "output_type": "stream",
          "name": "stdout",
          "text": [
            "+--------------------+-------+\n",
            "|            Features| Profit|\n",
            "+--------------------+-------+\n",
            "|[1.0,717.0,717.0,...|41.9136|\n",
            "|[1.0,717.0,717.0,...|219.582|\n",
            "|[1.0,539.0,537.0,...| 6.8714|\n",
            "+--------------------+-------+\n",
            "only showing top 3 rows\n",
            "\n"
          ]
        }
      ]
    },
    {
      "cell_type": "code",
      "source": [
        "splits = dataset.randomSplit([0.8, 0.2])\n",
        "train_set = splits[0]\n",
        "test_set = splits[1]"
      ],
      "metadata": {
        "id": "k111w-3NTbSm"
      },
      "execution_count": null,
      "outputs": []
    },
    {
      "cell_type": "code",
      "source": [
        "from pyspark.ml.regression import LinearRegression\n",
        "\n",
        "lr = LinearRegression(featuresCol = \"Features\", labelCol='Profit', maxIter=20, regParam=0.3, elasticNetParam=0.8)\n",
        "lr_model = lr.fit(train_set)\n",
        "\n",
        "print(\"Coefficients: \" + str(lr_model.coefficients))\n",
        "print(\"Intercept: \" + str(lr_model.intercept))\n",
        "\n",
        "trainingSummary = lr_model.summary\n",
        "print(\"RMSE: %f\" % trainingSummary.rootMeanSquaredError)\n",
        "print(\"r2: %f\" % trainingSummary.r2)"
      ],
      "metadata": {
        "colab": {
          "base_uri": "https://localhost:8080/"
        },
        "id": "Km3sgciTVOrX",
        "outputId": "0d0d779d-34a2-4d85-a7b0-49f1b3e82116"
      },
      "execution_count": null,
      "outputs": [
        {
          "output_type": "stream",
          "name": "stdout",
          "text": [
            "Coefficients: [2.6265463400705684,-0.0023543838926686003,-0.012959842823215162,2.8487541078506586,-0.03631123910503697,1.3060903694874213,-4.360683880100757,24.09477271819643,0.004428120241835511,1.016687829255581,-13.220149143492911]\n",
            "Intercept: 18.474273434345115\n",
            "RMSE: 219.498389\n",
            "r2: 0.032648\n"
          ]
        }
      ]
    },
    {
      "cell_type": "code",
      "source": [
        "train_set.describe().show()"
      ],
      "metadata": {
        "colab": {
          "base_uri": "https://localhost:8080/"
        },
        "id": "IeO5vzpEVsdb",
        "outputId": "90366168-e57f-4a95-8da2-c2789d8bcff1"
      },
      "execution_count": null,
      "outputs": [
        {
          "output_type": "stream",
          "name": "stdout",
          "text": [
            "+-------+------------------+\n",
            "|summary|            Profit|\n",
            "+-------+------------------+\n",
            "|  count|              7991|\n",
            "|   mean| 29.31127337004122|\n",
            "| stddev|223.18568640586852|\n",
            "|    min|         -6599.978|\n",
            "|    max|         6719.9808|\n",
            "+-------+------------------+\n",
            "\n"
          ]
        }
      ]
    },
    {
      "cell_type": "code",
      "source": [
        "predictions = lr_model.transform(test_set)\n",
        "predictions.select(\"Prediction\",\"Profit\",\"Features\").show()"
      ],
      "metadata": {
        "colab": {
          "base_uri": "https://localhost:8080/"
        },
        "id": "VOsGeGzBV7DD",
        "outputId": "8e7b1323-ae38-48a4-b9ef-5305002c1668"
      },
      "execution_count": null,
      "outputs": [
        {
          "output_type": "stream",
          "name": "stdout",
          "text": [
            "+------------------+-------+--------------------+\n",
            "|        Prediction| Profit|            Features|\n",
            "+------------------+-------+--------------------+\n",
            "|25.140233471309653| 68.976|(11,[0,1,2,3,4,8]...|\n",
            "|26.329826869407192|11.2308|(11,[0,1,2,3,4,8]...|\n",
            "|22.515606964257273| 6.2208|(11,[0,1,2,3,4,9]...|\n",
            "| 28.03514886435923|  0.864|(11,[0,1,2,4,5,8]...|\n",
            "|  26.8731912649859| 9.6192|(11,[0,1,2,4,5,8]...|\n",
            "| 19.12880113056666| 4.8588|(11,[0,1,2,4,5,8]...|\n",
            "|23.224285503284847| 2.2518|(11,[0,1,2,4,5,8]...|\n",
            "|42.105753019950626|11.1564|(11,[0,1,2,4,7,8]...|\n",
            "| 46.16811477257488| 2.3232|(11,[0,1,2,4,7,8]...|\n",
            "|  60.4334029879711|15.4872|(11,[0,1,2,4,7,8]...|\n",
            "|34.648756743859934|10.4148|(11,[0,1,2,4,7,8]...|\n",
            "| 21.16843217050135|10.3071|(11,[0,1,2,4,8],[...|\n",
            "| 20.61792867454396| 0.6258|(11,[0,1,2,4,8],[...|\n",
            "|20.496470575907313|23.9688|(11,[0,1,2,4,8],[...|\n",
            "|17.744708754519067| 1.5288|(11,[0,1,2,4,8],[...|\n",
            "|24.257297953390108| 1.7901|(11,[0,1,2,4,8],[...|\n",
            "| 16.55915550078182| 9.3312|(11,[0,1,2,4,8],[...|\n",
            "| 27.37326059312723|10.7301|(11,[0,1,2,4,8],[...|\n",
            "| 19.54615207285829| 2.4192|(11,[0,1,2,4,8],[...|\n",
            "|29.413132827554982|54.9504|(11,[0,1,2,4,8],[...|\n",
            "+------------------+-------+--------------------+\n",
            "only showing top 20 rows\n",
            "\n"
          ]
        }
      ]
    },
    {
      "cell_type": "code",
      "source": [
        ""
      ],
      "metadata": {
        "id": "NTD1hAnoY8Z-"
      },
      "execution_count": null,
      "outputs": []
    }
  ]
}